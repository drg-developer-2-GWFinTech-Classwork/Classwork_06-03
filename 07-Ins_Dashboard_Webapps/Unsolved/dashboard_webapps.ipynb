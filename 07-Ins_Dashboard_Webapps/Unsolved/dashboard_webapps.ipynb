{
 "cells": [
  {
   "cell_type": "markdown",
   "metadata": {},
   "source": [
    " # Extending Plotting"
   ]
  },
  {
   "cell_type": "markdown",
   "metadata": {},
   "source": [
    " It's time to extend your plotting skills. Over the past two lessons, you've learned how to create a range of interactive plots using hvPlot and Plotly Express; however, you haven't had one centralized location to embed these plots. Now you do! Integrate Plotly map visualizations with hvPlot scatter plots to create a Population and Crimes dashboard"
   ]
  },
  {
   "cell_type": "code",
   "execution_count": 1,
   "metadata": {},
   "outputs": [
    {
     "ename": "ModuleNotFoundError",
     "evalue": "No module named 'dotenv'",
     "output_type": "error",
     "traceback": [
      "\u001b[1;31m---------------------------------------------------------------------------\u001b[0m",
      "\u001b[1;31mModuleNotFoundError\u001b[0m                       Traceback (most recent call last)",
      "\u001b[1;32m<ipython-input-1-2927d3cd2b21>\u001b[0m in \u001b[0;36m<module>\u001b[1;34m\u001b[0m\n\u001b[0;32m      4\u001b[0m \u001b[1;32mimport\u001b[0m \u001b[0mos\u001b[0m\u001b[1;33m\u001b[0m\u001b[1;33m\u001b[0m\u001b[0m\n\u001b[0;32m      5\u001b[0m \u001b[1;32mfrom\u001b[0m \u001b[0mpathlib\u001b[0m \u001b[1;32mimport\u001b[0m \u001b[0mPath\u001b[0m\u001b[1;33m\u001b[0m\u001b[1;33m\u001b[0m\u001b[0m\n\u001b[1;32m----> 6\u001b[1;33m \u001b[1;32mfrom\u001b[0m \u001b[0mdotenv\u001b[0m \u001b[1;32mimport\u001b[0m \u001b[0mload_dotenv\u001b[0m\u001b[1;33m\u001b[0m\u001b[1;33m\u001b[0m\u001b[0m\n\u001b[0m",
      "\u001b[1;31mModuleNotFoundError\u001b[0m: No module named 'dotenv'"
     ]
    }
   ],
   "source": [
    "import plotly.express as px\n",
    "import panel as pn\n",
    "import pandas as pd\n",
    "import os\n",
    "from pathlib import Path\n",
    "from dotenv import load_dotenv"
   ]
  },
  {
   "cell_type": "markdown",
   "metadata": {},
   "source": [
    " ### Use extension function to specify plugin"
   ]
  },
  {
   "cell_type": "code",
   "execution_count": 2,
   "metadata": {},
   "outputs": [],
   "source": [
    "# Set up Panel Plotly extension\n",
    "pn.extension('plotly')"
   ]
  },
  {
   "cell_type": "markdown",
   "metadata": {},
   "source": [
    "### Import hvplot.pandas after pn.extension¶"
   ]
  },
  {
   "cell_type": "code",
   "execution_count": 3,
   "metadata": {},
   "outputs": [],
   "source": [
    "# Import hvplot.pandas after pn.extension\n",
    "# This avoids plotly initialization failure\n",
    "import hvplot.pandas"
   ]
  },
  {
   "cell_type": "markdown",
   "metadata": {},
   "source": [
    " ### Set up Mapbox token and prepare data"
   ]
  },
  {
   "cell_type": "code",
   "execution_count": 4,
   "metadata": {},
   "outputs": [],
   "source": [
    "# Read the Mapbox API key\n",
    "load_dotenv()\n",
    "map_box_api = os.getenv(\"mapbox\")\n",
    "\n",
    "# Set token using Plotly Express set function\n",
    "px.set_mapbox_access_token(map_box_api)\n",
    "\n",
    "# Read in data\n",
    "city_pop = pd.read_csv(Path(\"../Resources/population_counts.csv\")).drop_duplicates()\n",
    "crime_rates = pd.read_csv(Path(\"../Resources/crime_rates.csv\")).drop_duplicates()\n",
    "\n",
    "pop_with_index = city_pop.set_index(\"city\")\n",
    "crime_with_index = crime_rates.set_index(\"city\")\n",
    "population_crime = (\n",
    "    pd.concat([pop_with_index, crime_with_index], axis=1, sort=True)\n",
    "    .dropna()\n",
    "    .reset_index()\n",
    ")"
   ]
  },
  {
   "cell_type": "markdown",
   "metadata": {},
   "source": [
    " ### Create plots"
   ]
  },
  {
   "cell_type": "code",
   "execution_count": 5,
   "metadata": {},
   "outputs": [],
   "source": [
    "# Create plots\n",
    "def get_population_plot():\n",
    "    population_plot = px.scatter_mapbox(\n",
    "        population_crime,\n",
    "        lat=\"latitude\",\n",
    "        lon=\"longitude\",\n",
    "        size=\"pop_2015\",\n",
    "        color=\"index\",\n",
    "        color_continuous_scale=px.colors.cyclical.IceFire,\n",
    "        title=\"City Population\",\n",
    "        zoom=3,\n",
    "        width=1000,\n",
    "    )\n",
    "    return population_plot\n",
    "\n",
    "\n",
    "def get_crime_plot():\n",
    "    crime_plot = px.scatter_mapbox(\n",
    "        population_crime,\n",
    "        lat=\"latitude\",\n",
    "        lon=\"longitude\",\n",
    "        size=\"violent_crime\",\n",
    "        color=\"index\",\n",
    "        color_continuous_scale=px.colors.cyclical.IceFire,\n",
    "        title=\"City Crime\",\n",
    "        zoom=3,\n",
    "        width=1000,\n",
    "    )\n",
    "    return crime_plot\n",
    "\n",
    "\n",
    "def get_population_violence():\n",
    "    population_violence = population_crime.hvplot.scatter(\n",
    "        x=\"pop_2015\",\n",
    "        y=\"violent_crime\",\n",
    "        title=\"Violent Crime by Population Correlation\",\n",
    "        width=1000,\n",
    "    ).opts(yformatter=\"%.0f\")\n",
    "    return population_violence\n",
    "\n",
    "\n",
    "def get_violent_murder():\n",
    "    violent_murder = population_crime.hvplot.scatter(\n",
    "        x=\"violent_crime\",\n",
    "        y=\"murder\",\n",
    "        title=\"Correlation Between Number of Violent Crimes and Murder\",\n",
    "        width=1000,\n",
    "    ).opts(yformatter=\"%.0f\")\n",
    "    return violent_murder"
   ]
  },
  {
   "cell_type": "markdown",
   "metadata": {},
   "source": [
    " ### Create Panel columns and tabs"
   ]
  },
  {
   "cell_type": "code",
   "execution_count": 6,
   "metadata": {},
   "outputs": [],
   "source": [
    "# Create panels to structure the layout of the dashboard\n",
    "geo_column = pn.Column(\n",
    "    \"## Population and Crime Geo Plots\", get_population_plot(), get_crime_plot()\n",
    ")\n",
    "\n",
    "scatter_column = pn.Column(\n",
    "    \"## Correlation of Population and Crime Plots\",\n",
    "    get_population_violence(),\n",
    "    get_violent_murder(),\n",
    ")\n",
    "\n",
    "# Create tabs\n",
    "crime_pop_dashboard = pn.Tabs(\n",
    "    (\"Geospatial\", geo_column), (\"Correlations\", scatter_column)\n",
    ")"
   ]
  },
  {
   "cell_type": "markdown",
   "metadata": {},
   "source": [
    " ### Execute the servable function"
   ]
  },
  {
   "cell_type": "code",
   "execution_count": 7,
   "metadata": {},
   "outputs": [],
   "source": [
    "# Execute Panel dashboard using servable function\n"
   ]
  }
 ],
 "metadata": {
  "file_extension": ".py",
  "kernelspec": {
   "display_name": "ipyvizenv",
   "language": "python",
   "name": "ipyvizenv"
  },
  "language_info": {
   "codemirror_mode": {
    "name": "ipython",
    "version": 3
   },
   "file_extension": ".py",
   "mimetype": "text/x-python",
   "name": "python",
   "nbconvert_exporter": "python",
   "pygments_lexer": "ipython3",
   "version": "3.8.3"
  },
  "mimetype": "text/x-python",
  "name": "python",
  "npconvert_exporter": "python",
  "pygments_lexer": "ipython3",
  "version": 3
 },
 "nbformat": 4,
 "nbformat_minor": 4
}
